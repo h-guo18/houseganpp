{
 "cells": [
  {
   "cell_type": "code",
   "execution_count": 2,
   "metadata": {},
   "outputs": [],
   "source": [
    "\n",
    "f1 = open('./traindata/traindata.txt','w')\n",
    "for j in range(1,49):\n",
    "    f1.write(\"./traindata/json/{}.json\".format(j)+'\\n')\n",
    "f1.close()"
   ]
  }
 ],
 "metadata": {
  "interpreter": {
   "hash": "9e2629db59dfe7681810f286517f533faefa9a7df9f526e4c47a3dc3189e17f7"
  },
  "kernelspec": {
   "display_name": "Python 3.8.5 64-bit",
   "language": "python",
   "name": "python3"
  },
  "language_info": {
   "codemirror_mode": {
    "name": "ipython",
    "version": 3
   },
   "file_extension": ".py",
   "mimetype": "text/x-python",
   "name": "python",
   "nbconvert_exporter": "python",
   "pygments_lexer": "ipython3",
   "version": "3.8.5"
  },
  "orig_nbformat": 4
 },
 "nbformat": 4,
 "nbformat_minor": 2
}
